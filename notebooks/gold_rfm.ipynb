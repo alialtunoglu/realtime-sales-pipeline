{
 "cells": [
  {
   "cell_type": "code",
   "execution_count": 2,
   "id": "16eaea5c",
   "metadata": {},
   "outputs": [
    {
     "name": "stdout",
     "output_type": "stream",
     "text": [
      "+----------+-------+---------+-----------------+\n",
      "|CustomerID|Recency|Frequency|         Monetary|\n",
      "+----------+-------+---------+-----------------+\n",
      "|   15039.0|      9|     1502|19914.43999999999|\n",
      "|   13259.0|     61|       87|292.3199999999999|\n",
      "|   16982.0|     60|       22|           384.06|\n",
      "|   17966.0|     37|       68|          1098.43|\n",
      "|   13178.0|     26|      265|5725.469999999999|\n",
      "+----------+-------+---------+-----------------+\n",
      "only showing top 5 rows\n",
      "\n"
     ]
    }
   ],
   "source": [
    "from pyspark.sql import SparkSession\n",
    "from delta import configure_spark_with_delta_pip\n",
    "from pyspark.sql.functions import col, max as spark_max, count, sum as spark_sum, datediff, to_date, lit\n",
    "\n",
    "# SparkSession'ı başlat\n",
    "\n",
    "builder = SparkSession.builder \\\n",
    "    .appName(\"Gold Layer - RFM\") \\\n",
    "    .config(\"spark.sql.extensions\", \"io.delta.sql.DeltaSparkSessionExtension\") \\\n",
    "    .config(\"spark.sql.catalog.spark_catalog\", \"org.apache.spark.sql.delta.catalog.DeltaCatalog\")\n",
    "\n",
    "spark = configure_spark_with_delta_pip(builder).getOrCreate()\n",
    "\n",
    "# Silver verisini yükle\n",
    "df_silver = spark.read.format(\"delta\").load(\"../delta/silver/online_retail_cleaned\")\n",
    "\n",
    "# Bugünün tarihi\n",
    "latest_date = df_silver.agg(spark_max(\"InvoiceDate\")).collect()[0][0]\n",
    "\n",
    "# RFM hesaplama\n",
    "rfm = df_silver \\\n",
    "    .withColumn(\"InvoiceDateOnly\", to_date(\"InvoiceDate\")) \\\n",
    "    .groupBy(\"CustomerID\") \\\n",
    "    .agg(\n",
    "        datediff(lit(latest_date), spark_max(\"InvoiceDateOnly\")).alias(\"Recency\"),\n",
    "        count(\"InvoiceNo\").alias(\"Frequency\"),\n",
    "        spark_sum(col(\"Quantity\") * col(\"UnitPrice\")).alias(\"Monetary\")\n",
    "    )\n",
    "\n",
    "rfm.write.format(\"delta\").mode(\"overwrite\").save(\"../delta/gold/rfm_table\")\n",
    "\n",
    "rfm.show(5)\n",
    "\n"
   ]
  },
  {
   "cell_type": "code",
   "execution_count": null,
   "id": "fafd0fad",
   "metadata": {},
   "outputs": [],
   "source": []
  }
 ],
 "metadata": {
  "kernelspec": {
   "display_name": "spark-delta-env",
   "language": "python",
   "name": "python3"
  },
  "language_info": {
   "codemirror_mode": {
    "name": "ipython",
    "version": 3
   },
   "file_extension": ".py",
   "mimetype": "text/x-python",
   "name": "python",
   "nbconvert_exporter": "python",
   "pygments_lexer": "ipython3",
   "version": "3.10.18"
  }
 },
 "nbformat": 4,
 "nbformat_minor": 5
}
