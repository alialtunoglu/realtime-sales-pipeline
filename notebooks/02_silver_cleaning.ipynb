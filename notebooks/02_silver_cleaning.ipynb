{
 "cells": [
  {
   "cell_type": "code",
   "execution_count": null,
   "id": "e3fa7a2e",
   "metadata": {},
   "outputs": [],
   "source": [
    "from pyspark.sql import SparkSession\n",
    "from delta import configure_spark_with_delta_pip\n",
    "from pyspark.sql.functions import col, to_timestamp, when, trim\n",
    "\n",
    "# Spark session\n",
    "builder = SparkSession.builder \\\n",
    "    .appName(\"SilverCleaning\") \\\n",
    "    .config(\"spark.sql.extensions\", \"io.delta.sql.DeltaSparkSessionExtension\") \\\n",
    "    .config(\"spark.sql.catalog.spark_catalog\", \"org.apache.spark.sql.delta.catalog.DeltaCatalog\")\n",
    "\n",
    "spark = configure_spark_with_delta_pip(builder).getOrCreate()\n",
    "\n",
    "# Bronze veriyi oku\n",
    "df_bronze = spark.read.format(\"delta\").load(\"../delta/bronze/online_retail\")\n",
    "\n",
    "# 📌 Veri temizleme adımları\n",
    "df_silver = df_bronze \\\n",
    "    .dropna(subset=[\"InvoiceNo\", \"StockCode\", \"Description\", \"InvoiceDate\", \"CustomerID\"]) \\\n",
    "    .withColumn(\"InvoiceDate\", to_timestamp(col(\"InvoiceDate\"))) \\\n",
    "    .withColumn(\"Quantity\", col(\"Quantity\").cast(\"int\")) \\\n",
    "    .withColumn(\"UnitPrice\", col(\"UnitPrice\").cast(\"double\")) \\\n",
    "    .withColumn(\"CustomerID\", col(\"CustomerID\").cast(\"string\")) \\\n",
    "    .withColumn(\"Description\", trim(col(\"Description\"))) \\\n",
    "    .filter(col(\"Quantity\") > 0) \\\n",
    "    .filter(col(\"UnitPrice\") > 0)\n",
    "\n",
    "# Silver katmanına yaz\n",
    "df_silver.write.format(\"delta\").mode(\"overwrite\").save(\"../delta/silver/online_retail_cleaned\")\n",
    "df_silver.printSchema()\n",
    "df_silver.show(5)\n",
    "print(\"✅ Silver cleaning işlemi tamamlandı.\")"
   ]
  }
 ],
 "metadata": {
  "language_info": {
   "name": "python"
  }
 },
 "nbformat": 4,
 "nbformat_minor": 5
}
