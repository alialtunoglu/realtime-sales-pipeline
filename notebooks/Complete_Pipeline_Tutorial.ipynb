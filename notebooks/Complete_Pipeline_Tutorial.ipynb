{
 "cells": [
  {
   "cell_type": "markdown",
   "id": "b5194652",
   "metadata": {},
   "source": [
    "# 🛍️ Retail Sales Pipeline - Complete Tutorial\n",
    "\n",
    "Bu notebook, **Medallion Architecture** kullanan modern bir veri pipeline'ının nasıl çalıştığını gösterir.\n",
    "\n",
    "## 📋 İçindekiler\n",
    "1. [Pipeline Mimarisi](#pipeline-mimarisi)\n",
    "2. [Bronze Layer - Data Ingestion](#bronze-layer)\n",
    "3. [Silver Layer - Data Cleaning](#silver-layer)\n",
    "4. [Gold Layer - Business Analytics](#gold-layer)\n",
    "5. [Advanced Analytics](#advanced-analytics)\n",
    "6. [Dashboard & Visualization](#dashboard)\n",
    "7. [Airflow Automation](#airflow)\n",
    "\n",
    "---"
   ]
  },
  {
   "cell_type": "markdown",
   "id": "e923e5ac",
   "metadata": {},
   "source": [
    "## 🏗️ Pipeline Mimarisi {#pipeline-mimarisi}\n",
    "\n",
    "**Medallion Architecture** 3 katmanlı veri mimarisidir:\n",
    "\n",
    "```\n",
    "📁 Raw Data (CSV/Excel)\n",
    "    ↓\n",
    "🥉 Bronze Layer (Ham Delta Tables)\n",
    "    ↓\n",
    "🥈 Silver Layer (Temizlenmiş Delta Tables)\n",
    "    ↓\n",
    "🥇 Gold Layer (İş Analitiği Tabloları)\n",
    "    ↓\n",
    "🔬 Advanced Analytics (RFM, CLTV, Forecasting)\n",
    "    ↓\n",
    "📊 Dashboard (Streamlit)\n",
    "```\n",
    "\n",
    "### 🎯 Her Katmanın Amacı:\n",
    "- **Bronze:** Ham veriyi olduğu gibi sakla\n",
    "- **Silver:** Veriyi temizle, validate et\n",
    "- **Gold:** İş kararları için hazır tablolar oluştur"
   ]
  },
  {
   "cell_type": "markdown",
   "id": "e709aefb",
   "metadata": {},
   "source": [
    "## 🛠️ Kurulum ve Hazırlık"
   ]
  },
  {
   "cell_type": "code",
   "execution_count": null,
   "id": "779ee435",
   "metadata": {},
   "outputs": [],
   "source": [
    "# Gerekli kütüphaneleri import edelim\n",
    "from pyspark.sql import SparkSession\n",
    "from delta import configure_spark_with_delta_pip\n",
    "from pyspark.sql.functions import *\n",
    "import pandas as pd\n",
    "import matplotlib.pyplot as plt\n",
    "import seaborn as sns\n",
    "import warnings\n",
    "warnings.filterwarnings('ignore')\n",
    "\n",
    "# Spark session oluştur\n",
    "builder = SparkSession.builder \\\n",
    "    .appName(\"RetailPipelineTutorial\") \\\n",
    "    .config(\"spark.sql.extensions\", \"io.delta.sql.DeltaSparkSessionExtension\") \\\n",
    "    .config(\"spark.sql.catalog.spark_catalog\", \"org.apache.spark.sql.delta.catalog.DeltaCatalog\")\n",
    "\n",
    "spark = configure_spark_with_delta_pip(builder).getOrCreate()\n",
    "\n",
    "print(\"✅ Spark session başlatıldı!\")\n",
    "print(f\"📋 Spark version: {spark.version}\")"
   ]
  },
  {
   "cell_type": "markdown",
   "id": "90aa86b2",
   "metadata": {},
   "source": [
    "## 🥉 Bronze Layer - Data Ingestion {#bronze-layer}\n",
    "\n",
    "Ham veriyi CSV'den okuyup Delta formatında saklıyoruz."
   ]
  },
  {
   "cell_type": "code",
   "execution_count": null,
   "id": "3556666d",
   "metadata": {},
   "outputs": [],
   "source": [
    "# 1️⃣ CSV verisini oku\n",
    "print(\"📖 CSV verisini okuyoruz...\")\n",
    "df_raw = spark.read.format(\"csv\") \\\n",
    "    .option(\"header\", \"true\") \\\n",
    "    .option(\"inferSchema\", \"true\") \\\n",
    "    .load(\"data/input/retail_data.csv\")\n",
    "\n",
    "print(f\"📊 Okunan veri: {df_raw.count():,} satır, {len(df_raw.columns)} sütun\")\n",
    "\n",
    "# Schema'yı incele\n",
    "print(\"\\n📋 Veri Şeması:\")\n",
    "df_raw.printSchema()\n",
    "\n",
    "# İlk 5 satırı göster\n",
    "print(\"\\n🔍 İlk 5 Satır:\")\n",
    "df_raw.show(5)"
   ]
  },
  {
   "cell_type": "code",
   "execution_count": null,
   "id": "e7ebbe7a",
   "metadata": {},
   "outputs": [],
   "source": [
    "# 2️⃣ Bronze katmanına Delta formatında kaydet\n",
    "print(\"💾 Bronze katmanına kaydediliyor...\")\n",
    "df_raw.write.format(\"delta\").mode(\"overwrite\").save(\"delta/bronze/online_retail\")\n",
    "\n",
    "print(\"✅ Bronze layer tamamlandı!\")\n",
    "print(\"📁 Lokasyon: delta/bronze/online_retail\")"
   ]
  },
  {
   "cell_type": "markdown",
   "id": "63e331e8",
   "metadata": {},
   "source": [
    "## 🥈 Silver Layer - Data Cleaning {#silver-layer}\n",
    "\n",
    "Bronze'dan veriyi alıp temizliyoruz."
   ]
  },
  {
   "cell_type": "code",
   "execution_count": null,
   "id": "9c33b46a",
   "metadata": {},
   "outputs": [],
   "source": [
    "# 3️⃣ Bronze'dan veriyi oku\n",
    "print(\"📖 Bronze katmanından veriyi okuyoruz...\")\n",
    "df_bronze = spark.read.format(\"delta\").load(\"delta/bronze/online_retail\")\n",
    "\n",
    "print(f\"📊 Bronze veri: {df_bronze.count():,} satır\")\n",
    "\n",
    "# Veri kalitesini incele\n",
    "print(\"\\n🔍 Veri Kalitesi Analizi:\")\n",
    "print(\"NULL değerler:\")\n",
    "for col_name in df_bronze.columns:\n",
    "    null_count = df_bronze.filter(col(col_name).isNull()).count()\n",
    "    if null_count > 0:\n",
    "        print(f\"  {col_name}: {null_count:,} NULL değer\")"
   ]
  },
  {
   "cell_type": "code",
   "execution_count": null,
   "id": "47570d08",
   "metadata": {},
   "outputs": [],
   "source": [
    "# 4️⃣ Veri temizleme işlemleri\n",
    "print(\"🧹 Veri temizleme işlemleri...\")\n",
    "\n",
    "df_silver = df_bronze \\\n",
    "    .dropna(subset=[\"InvoiceNo\", \"StockCode\", \"Description\", \"InvoiceDate\", \"CustomerID\"]) \\\n",
    "    .withColumn(\"InvoiceDate\", to_timestamp(col(\"InvoiceDate\"))) \\\n",
    "    .withColumn(\"Quantity\", col(\"Quantity\").cast(\"int\")) \\\n",
    "    .withColumn(\"UnitPrice\", col(\"UnitPrice\").cast(\"double\")) \\\n",
    "    .withColumn(\"CustomerID\", col(\"CustomerID\").cast(\"string\")) \\\n",
    "    .withColumn(\"Description\", trim(col(\"Description\"))) \\\n",
    "    .filter(col(\"Quantity\") > 0) \\\n",
    "    .filter(col(\"UnitPrice\") > 0)\n",
    "\n",
    "print(f\"📊 Temizlenmiş veri: {df_silver.count():,} satır\")\n",
    "print(f\"🗑️ Silinen satır: {df_bronze.count() - df_silver.count():,}\")\n",
    "\n",
    "# Silver katmanına kaydet\n",
    "df_silver.write.format(\"delta\").mode(\"overwrite\").save(\"delta/silver/online_retail_cleaned\")\n",
    "\n",
    "print(\"✅ Silver layer tamamlandı!\")\n",
    "print(\"📁 Lokasyon: delta/silver/online_retail_cleaned\")"
   ]
  },
  {
   "cell_type": "markdown",
   "id": "9b2b9c80",
   "metadata": {},
   "source": [
    "## 🥇 Gold Layer - Business Analytics {#gold-layer}\n",
    "\n",
    "Silver'dan iş analitiği tablolarını oluşturuyoruz."
   ]
  },
  {
   "cell_type": "code",
   "execution_count": null,
   "id": "1f771170",
   "metadata": {},
   "outputs": [],
   "source": [
    "# 5️⃣ Silver'dan veriyi oku\n",
    "print(\"📖 Silver katmanından veriyi okuyoruz...\")\n",
    "df_silver = spark.read.format(\"delta\").load(\"delta/silver/online_retail_cleaned\")\n",
    "\n",
    "print(f\"📊 Silver veri: {df_silver.count():,} satır\")"
   ]
  },
  {
   "cell_type": "code",
   "execution_count": null,
   "id": "148fb673",
   "metadata": {},
   "outputs": [],
   "source": [
    "# 6️⃣ GOLD TABLE 1: Günlük Satış Özeti\n",
    "print(\"📈 Günlük satış özeti oluşturuluyor...\")\n",
    "\n",
    "daily_sales = df_silver \\\n",
    "    .withColumn(\"SaleDate\", to_date(\"InvoiceDate\")) \\\n",
    "    .groupBy(\"SaleDate\") \\\n",
    "    .agg(\n",
    "        sum(\"Quantity\").alias(\"TotalQuantity\"),\n",
    "        sum(df_silver[\"Quantity\"] * df_silver[\"UnitPrice\"]).alias(\"TotalRevenue\"),\n",
    "        countDistinct(\"CustomerID\").alias(\"UniqueCustomers\"),\n",
    "        count(\"InvoiceNo\").alias(\"TotalTransactions\")\n",
    "    ) \\\n",
    "    .orderBy(\"SaleDate\")\n",
    "\n",
    "daily_sales.write.format(\"delta\").mode(\"overwrite\").save(\"delta/gold/daily_sales\")\n",
    "\n",
    "print(f\"✅ Günlük satış tablosu: {daily_sales.count()} gün verisi\")\n",
    "daily_sales.show(5)"
   ]
  },
  {
   "cell_type": "code",
   "execution_count": null,
   "id": "70a6af93",
   "metadata": {},
   "outputs": [],
   "source": [
    "# 7️⃣ GOLD TABLE 2: En Çok Satılan Ürünler\n",
    "print(\"🏆 En çok satılan ürünler oluşturuluyor...\")\n",
    "\n",
    "top_products = df_silver \\\n",
    "    .groupBy(\"StockCode\", \"Description\") \\\n",
    "    .agg(\n",
    "        sum(\"Quantity\").alias(\"TotalSold\"),\n",
    "        sum(df_silver[\"Quantity\"] * df_silver[\"UnitPrice\"]).alias(\"TotalRevenue\"),\n",
    "        avg(\"UnitPrice\").alias(\"AvgPrice\")\n",
    "    ) \\\n",
    "    .orderBy(col(\"TotalSold\").desc()) \\\n",
    "    .limit(20)\n",
    "\n",
    "top_products.write.format(\"delta\").mode(\"overwrite\").save(\"delta/gold/top_products\")\n",
    "\n",
    "print(\"✅ En çok satılan ürünler tablosu tamamlandı\")\n",
    "top_products.show(5)"
   ]
  },
  {
   "cell_type": "code",
   "execution_count": null,
   "id": "5f4db1ce",
   "metadata": {},
   "outputs": [],
   "source": [
    "# 8️⃣ GOLD TABLE 3: Ülke Bazlı Satış\n",
    "print(\"🌍 Ülke bazlı satış oluşturuluyor...\")\n",
    "\n",
    "country_sales = df_silver \\\n",
    "    .groupBy(\"Country\") \\\n",
    "    .agg(\n",
    "        sum(df_silver[\"Quantity\"] * df_silver[\"UnitPrice\"]).alias(\"CountryRevenue\"),\n",
    "        sum(\"Quantity\").alias(\"TotalQuantity\"),\n",
    "        countDistinct(\"CustomerID\").alias(\"UniqueCustomers\"),\n",
    "        countDistinct(\"StockCode\").alias(\"UniqueProducts\")\n",
    "    ) \\\n",
    "    .orderBy(col(\"CountryRevenue\").desc())\n",
    "\n",
    "country_sales.write.format(\"delta\").mode(\"overwrite\").save(\"delta/gold/country_sales\")\n",
    "\n",
    "print(\"✅ Ülke bazlı satış tablosu tamamlandı\")\n",
    "country_sales.show(5)"
   ]
  },
  {
   "cell_type": "markdown",
   "id": "e4bd873a",
   "metadata": {},
   "source": [
    "## 🔬 Advanced Analytics {#advanced-analytics}\n",
    "\n",
    "İleri düzey müşteri analitiği: RFM, CLTV ve Forecasting"
   ]
  },
  {
   "cell_type": "code",
   "execution_count": null,
   "id": "b9f3b66a",
   "metadata": {},
   "outputs": [],
   "source": [
    "# 9️⃣ RFM ANALİZİ (Recency, Frequency, Monetary)\n",
    "print(\"🎯 RFM analizi başlatılıyor...\")\n",
    "\n",
    "# En son tarih\n",
    "latest_date = df_silver.agg(max(\"InvoiceDate\")).collect()[0][0]\n",
    "print(f\"📅 En son tarih: {latest_date}\")\n",
    "\n",
    "# RFM hesaplama\n",
    "rfm = df_silver \\\n",
    "    .withColumn(\"InvoiceDateOnly\", to_date(\"InvoiceDate\")) \\\n",
    "    .groupBy(\"CustomerID\") \\\n",
    "    .agg(\n",
    "        datediff(lit(latest_date), max(\"InvoiceDateOnly\")).alias(\"Recency\"),\n",
    "        count(\"InvoiceNo\").alias(\"Frequency\"),\n",
    "        sum(col(\"Quantity\") * col(\"UnitPrice\")).alias(\"Monetary\")\n",
    "    )\n",
    "\n",
    "rfm.write.format(\"delta\").mode(\"overwrite\").save(\"delta/gold/rfm_table\")\n",
    "\n",
    "print(f\"✅ RFM analizi tamamlandı: {rfm.count():,} müşteri\")\n",
    "rfm.orderBy(col(\"Monetary\").desc()).show(5)"
   ]
  },
  {
   "cell_type": "code",
   "execution_count": null,
   "id": "e84ae900",
   "metadata": {},
   "outputs": [],
   "source": [
    "# 🔟 CLTV ANALİZİ (Customer Lifetime Value)\n",
    "print(\"💰 CLTV analizi başlatılıyor...\")\n",
    "\n",
    "# Basit CLTV formülü: (Frequency * Monetary) / (Recency + 1)\n",
    "cltv = rfm.withColumn(\n",
    "    \"CLTV\", \n",
    "    (col(\"Frequency\") * col(\"Monetary\")) / (col(\"Recency\") + lit(1))\n",
    ")\n",
    "\n",
    "cltv.write.format(\"delta\").mode(\"overwrite\").save(\"delta/gold/cltv_table\")\n",
    "\n",
    "print(\"✅ CLTV analizi tamamlandı\")\n",
    "cltv.orderBy(col(\"CLTV\").desc()).show(5)"
   ]
  },
  {
   "cell_type": "code",
   "execution_count": null,
   "id": "41f26b1b",
   "metadata": {},
   "outputs": [],
   "source": [
    "# 1️⃣1️⃣ FORECASTİNG (12 Aylık Gelir Tahmini)\n",
    "print(\"🔮 12 aylık gelir tahmini başlatılıyor...\")\n",
    "\n",
    "# Basit tahmin: CLTV * 12 ay\n",
    "forecast = cltv.withColumn(\"ExpectedRevenue_12M\", col(\"CLTV\") * lit(12))\n",
    "\n",
    "forecast.write.format(\"delta\").mode(\"overwrite\").save(\"delta/gold/forecast_table\")\n",
    "\n",
    "total_forecast = forecast.agg(sum(\"ExpectedRevenue_12M\")).collect()[0][0]\n",
    "print(f\"✅ Forecasting tamamlandı\")\n",
    "print(f\"🎯 Toplam 12 aylık tahmini gelir: ${total_forecast:,.2f}\")\n",
    "\n",
    "forecast.orderBy(col(\"ExpectedRevenue_12M\").desc()).show(5)"
   ]
  },
  {
   "cell_type": "markdown",
   "id": "8c6996a7",
   "metadata": {},
   "source": [
    "## 📊 Data Visualization {#dashboard}\n",
    "\n",
    "Oluşturduğumuz tabloları görselleştirelim."
   ]
  },
  {
   "cell_type": "code",
   "execution_count": null,
   "id": "7ebe35fd",
   "metadata": {},
   "outputs": [],
   "source": [
    "# 1️⃣2️⃣ Günlük Satış Trendi\n",
    "print(\"📈 Günlük satış trendi çiziliyor...\")\n",
    "\n",
    "# Pandas'a çevir\n",
    "daily_df = daily_sales.toPandas()\n",
    "daily_df['SaleDate'] = pd.to_datetime(daily_df['SaleDate'])\n",
    "\n",
    "plt.figure(figsize=(12, 6))\n",
    "plt.plot(daily_df['SaleDate'], daily_df['TotalRevenue'])\n",
    "plt.title('📈 Günlük Satış Cirosu Trendi')\n",
    "plt.xlabel('Tarih')\n",
    "plt.ylabel('Toplam Ciro ($)')\n",
    "plt.xticks(rotation=45)\n",
    "plt.grid(True)\n",
    "plt.tight_layout()\n",
    "plt.show()\n",
    "\n",
    "print(f\"📊 Toplam satış günü: {len(daily_df)} gün\")\n",
    "print(f\"💰 Toplam ciro: ${daily_df['TotalRevenue'].sum():,.2f}\")"
   ]
  },
  {
   "cell_type": "code",
   "execution_count": null,
   "id": "d1620935",
   "metadata": {},
   "outputs": [],
   "source": [
    "# 1️⃣3️⃣ En Çok Satılan Ürünler\n",
    "print(\"🏆 En çok satılan ürünler çiziliyor...\")\n",
    "\n",
    "products_df = top_products.toPandas()\n",
    "\n",
    "plt.figure(figsize=(12, 8))\n",
    "plt.barh(products_df['Description'][:10], products_df['TotalSold'][:10])\n",
    "plt.title('🏆 En Çok Satılan 10 Ürün')\n",
    "plt.xlabel('Satış Adedi')\n",
    "plt.gca().invert_yaxis()\n",
    "plt.tight_layout()\n",
    "plt.show()\n",
    "\n",
    "print(f\"📦 Toplam ürün çeşidi: {len(products_df)}\")"
   ]
  },
  {
   "cell_type": "code",
   "execution_count": null,
   "id": "fbfda487",
   "metadata": {},
   "outputs": [],
   "source": [
    "# 1️⃣4️⃣ Ülke Bazlı Satış Dağılımı\n",
    "print(\"🌍 Ülke bazlı satış dağılımı çiziliyor...\")\n",
    "\n",
    "country_df = country_sales.toPandas()\n",
    "\n",
    "plt.figure(figsize=(12, 8))\n",
    "plt.pie(country_df['CountryRevenue'][:5], \n",
    "        labels=country_df['Country'][:5], \n",
    "        autopct='%1.1f%%',\n",
    "        startangle=90)\n",
    "plt.title('🌍 Top 5 Ülke Satış Dağılımı')\n",
    "plt.axis('equal')\n",
    "plt.show()\n",
    "\n",
    "print(f\"🌎 Toplam ülke: {len(country_df)} ülke\")\n",
    "print(f\"🇬🇧 En çok satış yapan ülke: {country_df.iloc[0]['Country']}\")"
   ]
  },
  {
   "cell_type": "code",
   "execution_count": null,
   "id": "0e3410af",
   "metadata": {},
   "outputs": [],
   "source": [
    "# 1️⃣5️⃣ RFM Analizi Görselleştirme\n",
    "print(\"🎯 RFM analizi görselleştiriliyor...\")\n",
    "\n",
    "rfm_df = rfm.toPandas()\n",
    "\n",
    "fig, axes = plt.subplots(1, 3, figsize=(15, 5))\n",
    "\n",
    "# Recency dağılımı\n",
    "axes[0].hist(rfm_df['Recency'], bins=50, alpha=0.7, color='red')\n",
    "axes[0].set_title('📅 Recency Dağılımı')\n",
    "axes[0].set_xlabel('Gün')\n",
    "\n",
    "# Frequency dağılımı\n",
    "axes[1].hist(rfm_df['Frequency'], bins=50, alpha=0.7, color='blue')\n",
    "axes[1].set_title('🔄 Frequency Dağılımı')\n",
    "axes[1].set_xlabel('Alışveriş Sayısı')\n",
    "\n",
    "# Monetary dağılımı\n",
    "axes[2].hist(rfm_df['Monetary'], bins=50, alpha=0.7, color='green')\n",
    "axes[2].set_title('💰 Monetary Dağılımı')\n",
    "axes[2].set_xlabel('Toplam Harcama ($)')\n",
    "\n",
    "plt.tight_layout()\n",
    "plt.show()\n",
    "\n",
    "print(f\"🎯 RFM istatistikleri:\")\n",
    "print(f\"   📅 Ortalama Recency: {rfm_df['Recency'].mean():.1f} gün\")\n",
    "print(f\"   🔄 Ortalama Frequency: {rfm_df['Frequency'].mean():.1f} alışveriş\")\n",
    "print(f\"   💰 Ortalama Monetary: ${rfm_df['Monetary'].mean():.2f}\")"
   ]
  },
  {
   "cell_type": "markdown",
   "id": "7b2c7c79",
   "metadata": {},
   "source": [
    "## 🤖 Apache Airflow Automation {#airflow}\n",
    "\n",
    "Pipeline'ınızı Airflow ile otomatize etmek için:"
   ]
  },
  {
   "cell_type": "markdown",
   "id": "f3e7bbfb",
   "metadata": {},
   "source": [
    "### 🚀 Airflow DAG'larını Çalıştırma\n",
    "\n",
    "```bash\n",
    "# Airflow home dizinini ayarla\n",
    "export AIRFLOW_HOME=$(pwd)/airflow\n",
    "\n",
    "# DAG'ları listele\n",
    "airflow dags list\n",
    "\n",
    "# Manuel DAG tetikleme\n",
    "airflow dags trigger retail_sales_pipeline\n",
    "\n",
    "# DAG durumunu kontrol et\n",
    "airflow dags state retail_sales_pipeline\n",
    "\n",
    "# Web interface başlat\n",
    "airflow webserver --port 8080\n",
    "```"
   ]
  },
  {
   "cell_type": "markdown",
   "id": "41c78d37",
   "metadata": {},
   "source": [
    "### 📋 Kullanılabilir DAG'lar\n",
    "\n",
    "1. **`retail_sales_pipeline`** - Tam pipeline (Bronze → Silver → Gold → Advanced)\n",
    "2. **`bronze_ingestion_dag`** - Sadece Bronze layer\n",
    "3. **`silver_cleaning_dag`** - Sadece Silver layer\n",
    "\n",
    "### 🔧 Manuel Pipeline Çalıştırma\n",
    "\n",
    "```bash\n",
    "# Tek komutla tüm pipeline'ı çalıştır\n",
    "./run_complete_pipeline.sh\n",
    "```"
   ]
  },
  {
   "cell_type": "markdown",
   "id": "38407489",
   "metadata": {},
   "source": [
    "## 📊 Dashboard Başlatma\n",
    "\n",
    "Pipeline tamamlandıktan sonra Streamlit dashboard'unu başlatın:"
   ]
  },
  {
   "cell_type": "markdown",
   "id": "4442131a",
   "metadata": {},
   "source": [
    "```bash\n",
    "# Conda environment aktif et\n",
    "conda activate spark-delta-env\n",
    "\n",
    "# Dashboard'u başlat\n",
    "streamlit run dashboard/app.py --server.port 8504\n",
    "```\n",
    "\n",
    "Dashboard şunları içerir:\n",
    "- 📈 Günlük satış cirosu grafiği\n",
    "- 🏆 En çok satılan ürünler\n",
    "- 🌍 Ülke bazlı satış dağılımı\n",
    "- 🎯 RFM analizi tabloları\n",
    "- 💰 CLTV analizi\n",
    "- 🔮 12 aylık gelir tahminleri"
   ]
  },
  {
   "cell_type": "markdown",
   "id": "4facd0b5",
   "metadata": {},
   "source": [
    "## 🎯 Özet ve Sonuçlar\n",
    "\n",
    "Bu tutorial'da öğrendikleriniz:\n",
    "\n",
    "### ✅ Teknik Beceriler\n",
    "- **Apache Spark** ile büyük veri işleme\n",
    "- **Delta Lake** ile modern veri gölü mimarisi\n",
    "- **Medallion Architecture** prensipleri\n",
    "- **Apache Airflow** ile pipeline otomasyonu\n",
    "- **Streamlit** ile dashboard geliştirme\n",
    "\n",
    "### 📊 Analitik Beceriler\n",
    "- **RFM Analizi** ile müşteri segmentasyonu\n",
    "- **CLTV Hesaplama** ile müşteri değer analizi\n",
    "- **Forecasting** ile gelir tahminleme\n",
    "- **İş analitiği** tabloları oluşturma\n",
    "\n",
    "### 🚀 Production Ready Features\n",
    "- **Error handling** ve monitoring\n",
    "- **Scalable** mimari\n",
    "- **Automated** pipeline execution\n",
    "- **Interactive** dashboard\n",
    "\n",
    "---\n",
    "\n",
    "**🎉 Tebrikler!** Modern bir veri mühendisliği projesi tamamladınız!"
   ]
  },
  {
   "cell_type": "code",
   "execution_count": null,
   "id": "3053ccac",
   "metadata": {},
   "outputs": [],
   "source": [
    "# Spark session'ı kapat\n",
    "spark.stop()\n",
    "print(\"✅ Spark session kapatıldı!\")\n",
    "print(\"🎉 Tutorial tamamlandı!\")"
   ]
  }
 ],
 "metadata": {
  "language_info": {
   "name": "python"
  }
 },
 "nbformat": 4,
 "nbformat_minor": 5
}
