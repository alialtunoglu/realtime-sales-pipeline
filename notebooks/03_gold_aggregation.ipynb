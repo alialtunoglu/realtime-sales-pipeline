{
 "cells": [
  {
   "cell_type": "code",
   "execution_count": 2,
   "id": "3ef0439a",
   "metadata": {},
   "outputs": [
    {
     "name": "stdout",
     "output_type": "stream",
     "text": [
      "25/07/28 14:35:31 WARN package: Truncated the string representation of a plan since it was too large. This behavior can be adjusted by setting 'spark.sql.debug.maxToStringFields'.\n"
     ]
    },
    {
     "name": "stderr",
     "output_type": "stream",
     "text": [
      "                                                                                "
     ]
    },
    {
     "name": "stdout",
     "output_type": "stream",
     "text": [
      "+----------+-------------+------------------+\n",
      "|  SaleDate|TotalQuantity|      TotalRevenue|\n",
      "+----------+-------------+------------------+\n",
      "|2010-12-01|        24215| 46376.49000000003|\n",
      "|2010-12-02|        31142| 47316.52999999987|\n",
      "|2010-12-03|        11839|23921.710000000097|\n",
      "|2010-12-05|        16449|31771.600000000166|\n",
      "|2010-12-06|        16291| 31215.64000000016|\n",
      "+----------+-------------+------------------+\n",
      "only showing top 5 rows\n",
      "\n",
      "+--------------------+---------+\n",
      "|         Description|TotalSold|\n",
      "+--------------------+---------+\n",
      "|PAPER CRAFT , LIT...|    80995|\n",
      "|MEDIUM CERAMIC TO...|    77916|\n",
      "|WORLD WAR 2 GLIDE...|    54415|\n",
      "|JUMBO BAG RED RET...|    46181|\n",
      "|WHITE HANGING HEA...|    36725|\n",
      "+--------------------+---------+\n",
      "only showing top 5 rows\n",
      "\n",
      "+--------------+------------------+\n",
      "|       Country|    CountryRevenue|\n",
      "+--------------+------------------+\n",
      "|United Kingdom|  7308391.55399994|\n",
      "|   Netherlands|285446.33999999997|\n",
      "|          EIRE| 265545.8999999999|\n",
      "|       Germany|228867.14000000004|\n",
      "|        France|209024.05000000005|\n",
      "+--------------+------------------+\n",
      "only showing top 5 rows\n",
      "\n",
      "✅ Gold aggregation işlemi tamamlandı.\n"
     ]
    }
   ],
   "source": [
    "from pyspark.sql import SparkSession\n",
    "from delta import configure_spark_with_delta_pip\n",
    "from pyspark.sql.functions import sum, count, to_date, col\n",
    "\n",
    "# Spark session\n",
    "builder = SparkSession.builder \\\n",
    "    .appName(\"GoldAggregation\") \\\n",
    "    .config(\"spark.sql.extensions\", \"io.delta.sql.DeltaSparkSessionExtension\") \\\n",
    "    .config(\"spark.sql.catalog.spark_catalog\", \"org.apache.spark.sql.delta.catalog.DeltaCatalog\")\n",
    "\n",
    "spark = configure_spark_with_delta_pip(builder).getOrCreate()\n",
    "\n",
    "# Silver'dan oku\n",
    "df_silver = spark.read.format(\"delta\").load(\"../delta/silver/online_retail_cleaned\")\n",
    "\n",
    "# GOLD #1: Günlük satış toplamı\n",
    "daily_sales = df_silver \\\n",
    "    .withColumn(\"SaleDate\", to_date(\"InvoiceDate\")) \\\n",
    "    .groupBy(\"SaleDate\") \\\n",
    "    .agg(sum(\"Quantity\").alias(\"TotalQuantity\"),\n",
    "         sum(df_silver[\"Quantity\"] * df_silver[\"UnitPrice\"]).alias(\"TotalRevenue\")) \\\n",
    "    .orderBy(\"SaleDate\")\n",
    "\n",
    "# GOLD #2: En çok satılan ürünler (top 10)\n",
    "top_products = df_silver \\\n",
    "    .groupBy(\"Description\") \\\n",
    "    .agg(sum(\"Quantity\").alias(\"TotalSold\")) \\\n",
    "    .orderBy(col(\"TotalSold\").desc()) \\\n",
    "    .limit(10)\n",
    "\n",
    "# GOLD #3: Ülke bazlı satış\n",
    "country_sales = df_silver \\\n",
    "    .groupBy(\"Country\") \\\n",
    "    .agg(sum(df_silver[\"Quantity\"] * df_silver[\"UnitPrice\"]).alias(\"CountryRevenue\")) \\\n",
    "    .orderBy(col(\"CountryRevenue\").desc())\n",
    "\n",
    "# Kaydet\n",
    "daily_sales.write.format(\"delta\").mode(\"overwrite\").save(\"../delta/gold/daily_sales\")\n",
    "top_products.write.format(\"delta\").mode(\"overwrite\").save(\"../delta/gold/top_products\")\n",
    "country_sales.write.format(\"delta\").mode(\"overwrite\").save(\"../delta/gold/country_sales\")\n",
    "\n",
    "daily_sales.show(5)\n",
    "top_products.show(5)\n",
    "country_sales.show(5)\n",
    "\n",
    "print(\"✅ Gold aggregation işlemi tamamlandı.\")"
   ]
  },
  {
   "cell_type": "code",
   "execution_count": null,
   "id": "53e67fb9-ee58-4d73-9ff5-f3da4e42f666",
   "metadata": {},
   "outputs": [],
   "source": []
  }
 ],
 "metadata": {
  "kernelspec": {
   "display_name": "spark-delta-env",
   "language": "python",
   "name": "python3"
  },
  "language_info": {
   "codemirror_mode": {
    "name": "ipython",
    "version": 3
   },
   "file_extension": ".py",
   "mimetype": "text/x-python",
   "name": "python",
   "nbconvert_exporter": "python",
   "pygments_lexer": "ipython3",
   "version": "3.10.18"
  }
 },
 "nbformat": 4,
 "nbformat_minor": 5
}
