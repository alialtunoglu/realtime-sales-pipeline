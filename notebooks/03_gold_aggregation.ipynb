{
 "cells": [
  {
   "cell_type": "code",
   "execution_count": 1,
   "id": "3ef0439a",
   "metadata": {},
   "outputs": [
    {
     "name": "stdout",
     "output_type": "stream",
     "text": [
      ":: loading settings :: url = jar:file:/opt/miniconda3/envs/spark-delta-env/lib/python3.10/site-packages/pyspark/jars/ivy-2.5.1.jar!/org/apache/ivy/core/settings/ivysettings.xml\n"
     ]
    },
    {
     "name": "stderr",
     "output_type": "stream",
     "text": [
      "Ivy Default Cache set to: /Users/alialtunoglu/.ivy2/cache\n",
      "The jars for the packages stored in: /Users/alialtunoglu/.ivy2/jars\n",
      "io.delta#delta-core_2.12 added as a dependency\n",
      ":: resolving dependencies :: org.apache.spark#spark-submit-parent-2b255f35-4e5d-4589-9124-a070183b1fc8;1.0\n",
      "\tconfs: [default]\n",
      "\tfound io.delta#delta-core_2.12;2.3.0 in central\n",
      "\tfound io.delta#delta-storage;2.3.0 in central\n",
      "\tfound org.antlr#antlr4-runtime;4.8 in central\n",
      ":: resolution report :: resolve 79ms :: artifacts dl 5ms\n",
      "\t:: modules in use:\n",
      "\tio.delta#delta-core_2.12;2.3.0 from central in [default]\n",
      "\tio.delta#delta-storage;2.3.0 from central in [default]\n",
      "\torg.antlr#antlr4-runtime;4.8 from central in [default]\n",
      "\t---------------------------------------------------------------------\n",
      "\t|                  |            modules            ||   artifacts   |\n",
      "\t|       conf       | number| search|dwnlded|evicted|| number|dwnlded|\n",
      "\t---------------------------------------------------------------------\n",
      "\t|      default     |   3   |   0   |   0   |   0   ||   3   |   0   |\n",
      "\t---------------------------------------------------------------------\n",
      ":: retrieving :: org.apache.spark#spark-submit-parent-2b255f35-4e5d-4589-9124-a070183b1fc8\n",
      "\tconfs: [default]\n",
      "\t0 artifacts copied, 3 already retrieved (0kB/3ms)\n"
     ]
    },
    {
     "name": "stdout",
     "output_type": "stream",
     "text": [
      "25/07/28 14:33:29 WARN NativeCodeLoader: Unable to load native-hadoop library for your platform... using builtin-java classes where applicable\n"
     ]
    },
    {
     "name": "stderr",
     "output_type": "stream",
     "text": [
      "Setting default log level to \"WARN\".\n",
      "To adjust logging level use sc.setLogLevel(newLevel). For SparkR, use setLogLevel(newLevel).\n"
     ]
    },
    {
     "name": "stdout",
     "output_type": "stream",
     "text": [
      "25/07/28 14:33:30 WARN Utils: Service 'SparkUI' could not bind on port 4040. Attempting port 4041.\n",
      "25/07/28 14:33:30 WARN Utils: Service 'SparkUI' could not bind on port 4041. Attempting port 4042.\n"
     ]
    },
    {
     "ename": "NameError",
     "evalue": "name 'col' is not defined",
     "output_type": "error",
     "traceback": [
      "\u001b[0;31m---------------------------------------------------------------------------\u001b[0m",
      "\u001b[0;31mNameError\u001b[0m                                 Traceback (most recent call last)",
      "Cell \u001b[0;32mIn[1], line 28\u001b[0m\n\u001b[1;32m     17\u001b[0m daily_sales \u001b[38;5;241m=\u001b[39m df_silver \\\n\u001b[1;32m     18\u001b[0m     \u001b[38;5;241m.\u001b[39mwithColumn(\u001b[38;5;124m\"\u001b[39m\u001b[38;5;124mSaleDate\u001b[39m\u001b[38;5;124m\"\u001b[39m, to_date(\u001b[38;5;124m\"\u001b[39m\u001b[38;5;124mInvoiceDate\u001b[39m\u001b[38;5;124m\"\u001b[39m)) \\\n\u001b[1;32m     19\u001b[0m     \u001b[38;5;241m.\u001b[39mgroupBy(\u001b[38;5;124m\"\u001b[39m\u001b[38;5;124mSaleDate\u001b[39m\u001b[38;5;124m\"\u001b[39m) \\\n\u001b[1;32m     20\u001b[0m     \u001b[38;5;241m.\u001b[39magg(\u001b[38;5;28msum\u001b[39m(\u001b[38;5;124m\"\u001b[39m\u001b[38;5;124mQuantity\u001b[39m\u001b[38;5;124m\"\u001b[39m)\u001b[38;5;241m.\u001b[39malias(\u001b[38;5;124m\"\u001b[39m\u001b[38;5;124mTotalQuantity\u001b[39m\u001b[38;5;124m\"\u001b[39m),\n\u001b[1;32m     21\u001b[0m          \u001b[38;5;28msum\u001b[39m(df_silver[\u001b[38;5;124m\"\u001b[39m\u001b[38;5;124mQuantity\u001b[39m\u001b[38;5;124m\"\u001b[39m] \u001b[38;5;241m*\u001b[39m df_silver[\u001b[38;5;124m\"\u001b[39m\u001b[38;5;124mUnitPrice\u001b[39m\u001b[38;5;124m\"\u001b[39m])\u001b[38;5;241m.\u001b[39malias(\u001b[38;5;124m\"\u001b[39m\u001b[38;5;124mTotalRevenue\u001b[39m\u001b[38;5;124m\"\u001b[39m)) \\\n\u001b[1;32m     22\u001b[0m     \u001b[38;5;241m.\u001b[39morderBy(\u001b[38;5;124m\"\u001b[39m\u001b[38;5;124mSaleDate\u001b[39m\u001b[38;5;124m\"\u001b[39m)\n\u001b[1;32m     24\u001b[0m \u001b[38;5;66;03m# GOLD #2: En çok satılan ürünler (top 10)\u001b[39;00m\n\u001b[1;32m     25\u001b[0m top_products \u001b[38;5;241m=\u001b[39m df_silver \\\n\u001b[1;32m     26\u001b[0m     \u001b[38;5;241m.\u001b[39mgroupBy(\u001b[38;5;124m\"\u001b[39m\u001b[38;5;124mDescription\u001b[39m\u001b[38;5;124m\"\u001b[39m) \\\n\u001b[1;32m     27\u001b[0m     \u001b[38;5;241m.\u001b[39magg(\u001b[38;5;28msum\u001b[39m(\u001b[38;5;124m\"\u001b[39m\u001b[38;5;124mQuantity\u001b[39m\u001b[38;5;124m\"\u001b[39m)\u001b[38;5;241m.\u001b[39malias(\u001b[38;5;124m\"\u001b[39m\u001b[38;5;124mTotalSold\u001b[39m\u001b[38;5;124m\"\u001b[39m)) \\\n\u001b[0;32m---> 28\u001b[0m     \u001b[38;5;241m.\u001b[39morderBy(\u001b[43mcol\u001b[49m(\u001b[38;5;124m\"\u001b[39m\u001b[38;5;124mTotalSold\u001b[39m\u001b[38;5;124m\"\u001b[39m)\u001b[38;5;241m.\u001b[39mdesc()) \\\n\u001b[1;32m     29\u001b[0m     \u001b[38;5;241m.\u001b[39mlimit(\u001b[38;5;241m10\u001b[39m)\n\u001b[1;32m     31\u001b[0m \u001b[38;5;66;03m# GOLD #3: Ülke bazlı satış\u001b[39;00m\n\u001b[1;32m     32\u001b[0m country_sales \u001b[38;5;241m=\u001b[39m df_silver \\\n\u001b[1;32m     33\u001b[0m     \u001b[38;5;241m.\u001b[39mgroupBy(\u001b[38;5;124m\"\u001b[39m\u001b[38;5;124mCountry\u001b[39m\u001b[38;5;124m\"\u001b[39m) \\\n\u001b[1;32m     34\u001b[0m     \u001b[38;5;241m.\u001b[39magg(\u001b[38;5;28msum\u001b[39m(df_silver[\u001b[38;5;124m\"\u001b[39m\u001b[38;5;124mQuantity\u001b[39m\u001b[38;5;124m\"\u001b[39m] \u001b[38;5;241m*\u001b[39m df_silver[\u001b[38;5;124m\"\u001b[39m\u001b[38;5;124mUnitPrice\u001b[39m\u001b[38;5;124m\"\u001b[39m])\u001b[38;5;241m.\u001b[39malias(\u001b[38;5;124m\"\u001b[39m\u001b[38;5;124mCountryRevenue\u001b[39m\u001b[38;5;124m\"\u001b[39m)) \\\n\u001b[1;32m     35\u001b[0m     \u001b[38;5;241m.\u001b[39morderBy(col(\u001b[38;5;124m\"\u001b[39m\u001b[38;5;124mCountryRevenue\u001b[39m\u001b[38;5;124m\"\u001b[39m)\u001b[38;5;241m.\u001b[39mdesc())\n",
      "\u001b[0;31mNameError\u001b[0m: name 'col' is not defined"
     ]
    }
   ],
   "source": [
    "from pyspark.sql import SparkSession\n",
    "from delta import configure_spark_with_delta_pip\n",
    "from pyspark.sql.functions import sum, count, to_date, col\n",
    "# Spark session\n",
    "builder = SparkSession.builder \\\n",
    "    .appName(\"GoldAggregation\") \\\n",
    "    .config(\"spark.sql.extensions\", \"io.delta.sql.DeltaSparkSessionExtension\") \\\n",
    "    .config(\"spark.sql.catalog.spark_catalog\", \"org.apache.spark.sql.delta.catalog.DeltaCatalog\")\n",
    "\n",
    "spark = configure_spark_with_delta_pip(builder).getOrCreate()\n",
    "\n",
    "# Silver'dan oku\n",
    "df_silver = spark.read.format(\"delta\").load(\"../delta/silver/online_retail_cleaned\")\n",
    "\n",
    "# GOLD #1: Günlük satış toplamı\n",
    "daily_sales = df_silver \\\n",
    "    .withColumn(\"SaleDate\", to_date(\"InvoiceDate\")) \\\n",
    "    .groupBy(\"SaleDate\") \\\n",
    "    .agg(sum(\"Quantity\").alias(\"TotalQuantity\"),\n",
    "         sum(df_silver[\"Quantity\"] * df_silver[\"UnitPrice\"]).alias(\"TotalRevenue\")) \\\n",
    "    .orderBy(\"SaleDate\")\n",
    "\n",
    "# GOLD #2: En çok satılan ürünler (top 10)\n",
    "top_products = df_silver \\\n",
    "    .groupBy(\"Description\") \\\n",
    "    .agg(sum(\"Quantity\").alias(\"TotalSold\")) \\\n",
    "    .orderBy(col(\"TotalSold\").desc()) \\\n",
    "    .limit(10)\n",
    "\n",
    "# GOLD #3: Ülke bazlı satış\n",
    "country_sales = df_silver \\\n",
    "    .groupBy(\"Country\") \\\n",
    "    .agg(sum(df_silver[\"Quantity\"] * df_silver[\"UnitPrice\"]).alias(\"CountryRevenue\")) \\\n",
    "    .orderBy(col(\"CountryRevenue\").desc())\n",
    "\n",
    "# Kaydet\n",
    "daily_sales.write.format(\"delta\").mode(\"overwrite\").save(\"../delta/gold/daily_sales\")\n",
    "top_products.write.format(\"delta\").mode(\"overwrite\").save(\"../delta/gold/top_products\")\n",
    "country_sales.write.format(\"delta\").mode(\"overwrite\").save(\"../delta/gold/country_sales\")\n",
    "\n",
    "daily_sales.show(5)\n",
    "top_products.show(5)\n",
    "country_sales.show(5)\n",
    "\n",
    "print(\"✅ Gold aggregation işlemi tamamlandı.\")"
   ]
  },
  {
   "cell_type": "code",
   "execution_count": null,
   "id": "53e67fb9-ee58-4d73-9ff5-f3da4e42f666",
   "metadata": {},
   "outputs": [],
   "source": []
  }
 ],
 "metadata": {
  "kernelspec": {
   "display_name": "Python 3 (ipykernel)",
   "language": "python",
   "name": "python3"
  },
  "language_info": {
   "codemirror_mode": {
    "name": "ipython",
    "version": 3
   },
   "file_extension": ".py",
   "mimetype": "text/x-python",
   "name": "python",
   "nbconvert_exporter": "python",
   "pygments_lexer": "ipython3",
   "version": "3.10.18"
  }
 },
 "nbformat": 4,
 "nbformat_minor": 5
}
