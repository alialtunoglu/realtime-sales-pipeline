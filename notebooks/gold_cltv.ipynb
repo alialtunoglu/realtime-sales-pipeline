{
 "cells": [
  {
   "cell_type": "code",
   "execution_count": 1,
   "id": "c2fa7172",
   "metadata": {},
   "outputs": [
    {
     "name": "stdout",
     "output_type": "stream",
     "text": [
      ":: loading settings :: url = jar:file:/opt/miniconda3/envs/spark-delta-env/lib/python3.10/site-packages/pyspark/jars/ivy-2.5.1.jar!/org/apache/ivy/core/settings/ivysettings.xml\n",
      "25/07/28 15:03:57 WARN NativeCodeLoader: Unable to load native-hadoop library for your platform... using builtin-java classes where applicable\n"
     ]
    },
    {
     "name": "stderr",
     "output_type": "stream",
     "text": [
      "Ivy Default Cache set to: /Users/alialtunoglu/.ivy2/cache\n",
      "The jars for the packages stored in: /Users/alialtunoglu/.ivy2/jars\n",
      "io.delta#delta-core_2.12 added as a dependency\n",
      ":: resolving dependencies :: org.apache.spark#spark-submit-parent-f568732e-b06e-4052-a0dd-26215eb40ca2;1.0\n",
      "\tconfs: [default]\n",
      "\tfound io.delta#delta-core_2.12;2.3.0 in central\n",
      "\tfound io.delta#delta-storage;2.3.0 in central\n",
      "\tfound org.antlr#antlr4-runtime;4.8 in central\n",
      ":: resolution report :: resolve 76ms :: artifacts dl 5ms\n",
      "\t:: modules in use:\n",
      "\tio.delta#delta-core_2.12;2.3.0 from central in [default]\n",
      "\tio.delta#delta-storage;2.3.0 from central in [default]\n",
      "\torg.antlr#antlr4-runtime;4.8 from central in [default]\n",
      "\t---------------------------------------------------------------------\n",
      "\t|                  |            modules            ||   artifacts   |\n",
      "\t|       conf       | number| search|dwnlded|evicted|| number|dwnlded|\n",
      "\t---------------------------------------------------------------------\n",
      "\t|      default     |   3   |   0   |   0   |   0   ||   3   |   0   |\n",
      "\t---------------------------------------------------------------------\n",
      ":: retrieving :: org.apache.spark#spark-submit-parent-f568732e-b06e-4052-a0dd-26215eb40ca2\n",
      "\tconfs: [default]\n",
      "\t0 artifacts copied, 3 already retrieved (0kB/2ms)\n",
      "Setting default log level to \"WARN\".\n",
      "To adjust logging level use sc.setLogLevel(newLevel). For SparkR, use setLogLevel(newLevel).\n"
     ]
    },
    {
     "name": "stdout",
     "output_type": "stream",
     "text": [
      "25/07/28 15:04:00 WARN package: Truncated the string representation of a plan since it was too large. This behavior can be adjusted by setting 'spark.sql.debug.maxToStringFields'.\n"
     ]
    },
    {
     "name": "stderr",
     "output_type": "stream",
     "text": [
      "                                                                                \r"
     ]
    },
    {
     "name": "stdout",
     "output_type": "stream",
     "text": [
      "+----------+-------+---------+-----------------+------------------+\n",
      "|CustomerID|Recency|Frequency|         Monetary|              CLTV|\n",
      "+----------+-------+---------+-----------------+------------------+\n",
      "|   15039.0|      9|     1502|19914.43999999999| 2991148.887999999|\n",
      "|   13259.0|     61|       87|292.3199999999999| 410.1909677419353|\n",
      "|   16982.0|     60|       22|           384.06| 138.5134426229508|\n",
      "|   17966.0|     37|       68|          1098.43|1965.6115789473686|\n",
      "|   13178.0|     26|      265|5725.469999999999| 56194.42777777777|\n",
      "+----------+-------+---------+-----------------+------------------+\n",
      "only showing top 5 rows\n",
      "\n"
     ]
    }
   ],
   "source": [
    "from pyspark.sql import SparkSession\n",
    "from delta import configure_spark_with_delta_pip\n",
    "from pyspark.sql.functions import col, expr\n",
    "\n",
    "# Spark oturumu\n",
    "builder = SparkSession.builder \\\n",
    "    .appName(\"Gold Layer - CLTV\") \\\n",
    "    .config(\"spark.sql.extensions\", \"io.delta.sql.DeltaSparkSessionExtension\") \\\n",
    "    .config(\"spark.sql.catalog.spark_catalog\", \"org.apache.spark.sql.delta.catalog.DeltaCatalog\")\n",
    "\n",
    "spark = configure_spark_with_delta_pip(builder).getOrCreate()\n",
    "\n",
    "# RFM tablosunu oku\n",
    "rfm = spark.read.format(\"delta\").load(\"../delta/gold/rfm_table\")\n",
    "\n",
    "# CLTV hesapla\n",
    "rfm_cltv = rfm.withColumn(\"CLTV\", (col(\"Frequency\") * col(\"Monetary\")) / (col(\"Recency\") + expr(\"1\")))\n",
    "\n",
    "# Sonuçları kaydet\n",
    "rfm_cltv.write.format(\"delta\").mode(\"overwrite\").save(\"../delta/gold/cltv_table\")\n",
    "\n",
    "rfm_cltv.show(5)"
   ]
  },
  {
   "cell_type": "code",
   "execution_count": null,
   "id": "eda7abf7",
   "metadata": {},
   "outputs": [],
   "source": []
  }
 ],
 "metadata": {
  "kernelspec": {
   "display_name": "spark-delta-env",
   "language": "python",
   "name": "python3"
  },
  "language_info": {
   "codemirror_mode": {
    "name": "ipython",
    "version": 3
   },
   "file_extension": ".py",
   "mimetype": "text/x-python",
   "name": "python",
   "nbconvert_exporter": "python",
   "pygments_lexer": "ipython3",
   "version": "3.10.18"
  }
 },
 "nbformat": 4,
 "nbformat_minor": 5
}
